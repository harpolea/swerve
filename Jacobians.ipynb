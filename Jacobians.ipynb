{
 "cells": [
  {
   "cell_type": "markdown",
   "metadata": {},
   "source": [
    "We want to try and find the Jacobians of the GR shallow water equations. "
   ]
  },
  {
   "cell_type": "code",
   "execution_count": 1,
   "metadata": {
    "collapsed": true
   },
   "outputs": [],
   "source": [
    "import sympy\n",
    "sympy.init_printing()"
   ]
  },
  {
   "cell_type": "code",
   "execution_count": 26,
   "metadata": {
    "collapsed": true
   },
   "outputs": [],
   "source": [
    "M, J, Q = sympy.symbols('M, J, Q', positive=True)\n",
    "t, r = sympy.symbols('t, r', positive=True)\n",
    "th, ph = sympy.symbols('theta, phi')\n",
    "\n",
    "coords = t, r, th, ph\n",
    "\n",
    "\n",
    "Ph = sympy.symbols('Phi', positive=True)\n",
    "u, v, ut, al = sympy.symbols('u, v, u^t, alpha')\n",
    "bx, by = sympy.symbols('beta^x, beta^y')\n",
    "\n",
    "ud, vd = sympy.symbols('u_i, v_i')\n",
    "\n",
    "vsq = u**2 + v**2\n",
    "W = al*ut#1 / sympy.sqrt(1 - ud*u + vd*v)"
   ]
  },
  {
   "cell_type": "code",
   "execution_count": 28,
   "metadata": {
    "collapsed": true
   },
   "outputs": [],
   "source": [
    "w = Ph, u, v, ut\n",
    "U = Ph*W, Ph*W**2*u, Ph*W**2*v, Ph*W**2*al*(ud * (u - bx/al) + vd * (v - by/al))\n",
    "F_u = Ph*W*(u - bx/al), Ph*W**2*ud*(u - bx/al) + Ph, Ph*W**2*vd*(u - bx/al), Ph*W**2*(u - bx/al)*(ud*bx + vd*by - al)"
   ]
  },
  {
   "cell_type": "code",
   "execution_count": 22,
   "metadata": {
    "collapsed": false
   },
   "outputs": [
    {
     "name": "stdout",
     "output_type": "stream",
     "text": [
      "1/sqrt(-u*u_i + v*v_i + 1)\n",
      "u/(-u*u_i + v*v_i + 1)\n",
      "v/(-u*u_i + v*v_i + 1)\n",
      "alpha*(u_i*(u - beta^x/alpha) + v_i*(v - beta^y/alpha))/(-u*u_i + v*v_i + 1)\n"
     ]
    }
   ],
   "source": [
    "for x in U:\n",
    "    print(x.diff(Ph))\n",
    "    "
   ]
  },
  {
   "cell_type": "code",
   "execution_count": 23,
   "metadata": {
    "collapsed": false
   },
   "outputs": [
    {
     "name": "stdout",
     "output_type": "stream",
     "text": [
      "Phi*u_i/(2*(-u*u_i + v*v_i + 1)**(3/2))\n",
      "Phi*u*u_i/(-u*u_i + v*v_i + 1)**2 + Phi/(-u*u_i + v*v_i + 1)\n",
      "Phi*u_i*v/(-u*u_i + v*v_i + 1)**2\n",
      "Phi*alpha*u_i*(u_i*(u - beta^x/alpha) + v_i*(v - beta^y/alpha))/(-u*u_i + v*v_i + 1)**2 + Phi*alpha*u_i/(-u*u_i + v*v_i + 1)\n"
     ]
    }
   ],
   "source": [
    "for x in U:\n",
    "    print(x.diff(u))"
   ]
  },
  {
   "cell_type": "code",
   "execution_count": 24,
   "metadata": {
    "collapsed": false
   },
   "outputs": [
    {
     "name": "stdout",
     "output_type": "stream",
     "text": [
      "-Phi*v_i/(2*(-u*u_i + v*v_i + 1)**(3/2))\n",
      "-Phi*u*v_i/(-u*u_i + v*v_i + 1)**2\n",
      "-Phi*v*v_i/(-u*u_i + v*v_i + 1)**2 + Phi/(-u*u_i + v*v_i + 1)\n",
      "-Phi*alpha*v_i*(u_i*(u - beta^x/alpha) + v_i*(v - beta^y/alpha))/(-u*u_i + v*v_i + 1)**2 + Phi*alpha*v_i/(-u*u_i + v*v_i + 1)\n"
     ]
    }
   ],
   "source": [
    "for x in U:\n",
    "    print(x.diff(v))"
   ]
  },
  {
   "cell_type": "code",
   "execution_count": 29,
   "metadata": {
    "collapsed": false
   },
   "outputs": [
    {
     "name": "stdout",
     "output_type": "stream",
     "text": [
      "Phi*alpha\n",
      "2*Phi*alpha**2*u*u^t\n",
      "2*Phi*alpha**2*u^t*v\n",
      "2*Phi*alpha**3*u^t*(u_i*(u - beta^x/alpha) + v_i*(v - beta^y/alpha))\n"
     ]
    }
   ],
   "source": [
    "for x in U:\n",
    "    print(x.diff(ut))"
   ]
  },
  {
   "cell_type": "code",
   "execution_count": null,
   "metadata": {
    "collapsed": true
   },
   "outputs": [],
   "source": [
    "for x in F_u:\n",
    "    "
   ]
  }
 ],
 "metadata": {
  "kernelspec": {
   "display_name": "Python 3",
   "language": "python",
   "name": "python3"
  },
  "language_info": {
   "codemirror_mode": {
    "name": "ipython",
    "version": 3
   },
   "file_extension": ".py",
   "mimetype": "text/x-python",
   "name": "python",
   "nbconvert_exporter": "python",
   "pygments_lexer": "ipython3",
   "version": "3.4.4"
  }
 },
 "nbformat": 4,
 "nbformat_minor": 0
}
