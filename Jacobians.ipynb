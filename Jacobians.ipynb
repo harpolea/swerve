{
 "cells": [
  {
   "cell_type": "markdown",
   "metadata": {},
   "source": [
    "We want to try and find the Jacobians of the GR shallow water equations. "
   ]
  },
  {
   "cell_type": "code",
   "execution_count": 1,
   "metadata": {
    "collapsed": true
   },
   "outputs": [],
   "source": [
    "import sympy\n",
    "sympy.init_printing()"
   ]
  },
  {
   "cell_type": "code",
   "execution_count": 103,
   "metadata": {
    "collapsed": true
   },
   "outputs": [],
   "source": [
    "M, J, Q = sympy.symbols('M, J, Q', positive=True)\n",
    "t, r = sympy.symbols('t, r', positive=True)\n",
    "th, ph = sympy.symbols('theta, phi')\n",
    "\n",
    "coords = t, r, th, ph\n",
    "\n",
    "\n",
    "Ph = sympy.symbols('Phi', positive=True)\n",
    "u, v, ut, al = sympy.symbols('u, v, u^t, alpha')\n",
    "bx, by = sympy.symbols('beta^x, beta^y')\n",
    "\n",
    "ud, vd = sympy.symbols('u_i, v_i')\n",
    "\n",
    "vsq = u**2 + v**2\n",
    "#W = al*ut\n",
    "W = 1 / sympy.sqrt(1 - ud*u + vd*v)"
   ]
  },
  {
   "cell_type": "code",
   "execution_count": 4,
   "metadata": {
    "collapsed": true
   },
   "outputs": [],
   "source": [
    "w = Ph, u, v, ut\n",
    "U = Ph*W, Ph*W**2*u, Ph*W**2*v, Ph*W**2*al*(ud * (u - bx/al) + vd * (v - by/al))\n",
    "F_u = Ph*W*(u - bx/al), Ph*W**2*ud*(u - bx/al) + Ph, Ph*W**2*vd*(u - bx/al), Ph*W**2*(u - bx/al)*(ud*bx + vd*by - al)"
   ]
  },
  {
   "cell_type": "code",
   "execution_count": 22,
   "metadata": {
    "collapsed": false
   },
   "outputs": [
    {
     "name": "stdout",
     "output_type": "stream",
     "text": [
      "1/sqrt(-u*u_i + v*v_i + 1)\n",
      "u/(-u*u_i + v*v_i + 1)\n",
      "v/(-u*u_i + v*v_i + 1)\n",
      "alpha*(u_i*(u - beta^x/alpha) + v_i*(v - beta^y/alpha))/(-u*u_i + v*v_i + 1)\n"
     ]
    }
   ],
   "source": [
    "for x in U:\n",
    "    print(x.diff(Ph))\n",
    "    "
   ]
  },
  {
   "cell_type": "code",
   "execution_count": 23,
   "metadata": {
    "collapsed": false
   },
   "outputs": [
    {
     "name": "stdout",
     "output_type": "stream",
     "text": [
      "Phi*u_i/(2*(-u*u_i + v*v_i + 1)**(3/2))\n",
      "Phi*u*u_i/(-u*u_i + v*v_i + 1)**2 + Phi/(-u*u_i + v*v_i + 1)\n",
      "Phi*u_i*v/(-u*u_i + v*v_i + 1)**2\n",
      "Phi*alpha*u_i*(u_i*(u - beta^x/alpha) + v_i*(v - beta^y/alpha))/(-u*u_i + v*v_i + 1)**2 + Phi*alpha*u_i/(-u*u_i + v*v_i + 1)\n"
     ]
    }
   ],
   "source": [
    "for x in U:\n",
    "    print(x.diff(u))"
   ]
  },
  {
   "cell_type": "code",
   "execution_count": 24,
   "metadata": {
    "collapsed": false
   },
   "outputs": [
    {
     "name": "stdout",
     "output_type": "stream",
     "text": [
      "-Phi*v_i/(2*(-u*u_i + v*v_i + 1)**(3/2))\n",
      "-Phi*u*v_i/(-u*u_i + v*v_i + 1)**2\n",
      "-Phi*v*v_i/(-u*u_i + v*v_i + 1)**2 + Phi/(-u*u_i + v*v_i + 1)\n",
      "-Phi*alpha*v_i*(u_i*(u - beta^x/alpha) + v_i*(v - beta^y/alpha))/(-u*u_i + v*v_i + 1)**2 + Phi*alpha*v_i/(-u*u_i + v*v_i + 1)\n"
     ]
    }
   ],
   "source": [
    "for x in U:\n",
    "    print(x.diff(v))"
   ]
  },
  {
   "cell_type": "code",
   "execution_count": 29,
   "metadata": {
    "collapsed": false
   },
   "outputs": [
    {
     "name": "stdout",
     "output_type": "stream",
     "text": [
      "Phi*alpha\n",
      "2*Phi*alpha**2*u*u^t\n",
      "2*Phi*alpha**2*u^t*v\n",
      "2*Phi*alpha**3*u^t*(u_i*(u - beta^x/alpha) + v_i*(v - beta^y/alpha))\n"
     ]
    }
   ],
   "source": [
    "for x in U:\n",
    "    print(x.diff(ut))"
   ]
  },
  {
   "cell_type": "code",
   "execution_count": 30,
   "metadata": {
    "collapsed": false
   },
   "outputs": [
    {
     "name": "stdout",
     "output_type": "stream",
     "text": [
      "alpha*u^t*(u - beta^x/alpha)\n",
      "alpha**2*u^t**2*u_i*(u - beta^x/alpha) + 1\n",
      "alpha**2*u^t**2*v_i*(u - beta^x/alpha)\n",
      "alpha**2*u^t**2*(u - beta^x/alpha)*(-alpha + beta^x*u_i + beta^y*v_i)\n"
     ]
    }
   ],
   "source": [
    "for x in F_u:\n",
    "    print(x.diff(Ph))"
   ]
  },
  {
   "cell_type": "code",
   "execution_count": 31,
   "metadata": {
    "collapsed": false
   },
   "outputs": [
    {
     "name": "stdout",
     "output_type": "stream",
     "text": [
      "Phi*alpha*(u - beta^x/alpha)\n",
      "2*Phi*alpha**2*u^t*u_i*(u - beta^x/alpha)\n",
      "2*Phi*alpha**2*u^t*v_i*(u - beta^x/alpha)\n",
      "2*Phi*alpha**2*u^t*(u - beta^x/alpha)*(-alpha + beta^x*u_i + beta^y*v_i)\n"
     ]
    }
   ],
   "source": [
    "for x in F_u:\n",
    "    print(x.diff(ut))"
   ]
  },
  {
   "cell_type": "code",
   "execution_count": 34,
   "metadata": {
    "collapsed": false
   },
   "outputs": [
    {
     "name": "stdout",
     "output_type": "stream",
     "text": [
      "Phi*u_i*(u - beta^x/alpha)/(2*(-u*u_i + v*v_i + 1)**(3/2)) + Phi/sqrt(-u*u_i + v*v_i + 1)\n",
      "Phi*u_i**2*(u - beta^x/alpha)/(-u*u_i + v*v_i + 1)**2 + Phi*u_i/(-u*u_i + v*v_i + 1)\n",
      "Phi*u_i*v_i*(u - beta^x/alpha)/(-u*u_i + v*v_i + 1)**2 + Phi*v_i/(-u*u_i + v*v_i + 1)\n",
      "Phi*u_i*(u - beta^x/alpha)*(-alpha + beta^x*u_i + beta^y*v_i)/(-u*u_i + v*v_i + 1)**2 + Phi*(-alpha + beta^x*u_i + beta^y*v_i)/(-u*u_i + v*v_i + 1)\n"
     ]
    }
   ],
   "source": [
    "for x in F_u:\n",
    "    print(x.diff(u))"
   ]
  },
  {
   "cell_type": "code",
   "execution_count": 35,
   "metadata": {
    "collapsed": false
   },
   "outputs": [
    {
     "name": "stdout",
     "output_type": "stream",
     "text": [
      "-Phi*v_i*(u - beta^x/alpha)/(2*(-u*u_i + v*v_i + 1)**(3/2))\n",
      "-Phi*u_i*v_i*(u - beta^x/alpha)/(-u*u_i + v*v_i + 1)**2\n",
      "-Phi*v_i**2*(u - beta^x/alpha)/(-u*u_i + v*v_i + 1)**2\n",
      "-Phi*v_i*(u - beta^x/alpha)*(-alpha + beta^x*u_i + beta^y*v_i)/(-u*u_i + v*v_i + 1)**2\n"
     ]
    }
   ],
   "source": [
    "for x in F_u:\n",
    "    print(x.diff(v))"
   ]
  },
  {
   "cell_type": "code",
   "execution_count": 67,
   "metadata": {
    "collapsed": false
   },
   "outputs": [],
   "source": [
    "ud = u\n",
    "bx = 0\n",
    "W = 1 / sympy.sqrt(1 - ud*u)\n",
    "dudw = sympy.zeros(3,3)\n",
    "dudw[0,0] = W\n",
    "dudw[0,1] = Ph*ud*W**3\n",
    "dudw[0,2] = Ph*al \n",
    "\n",
    "dudw[1,0] = W**2*ud\n",
    "dudw[1,1] = Ph*W**2*(1 + 2*ud*ud*W**2)\n",
    "dudw[1,2] = 2*Ph*al*W*ud\n",
    "\n",
    "dudw[2,0] = W**2*al*ud*(u-bx/al)\n",
    "dudw[2,1] = Ph*W**2*al*((1 + 2*W**2*ud*ud)*(u-bx/al) + ud)\n",
    "dudw[2,2] = 2*Ph*al**2*W*ud*(u-bx/al)"
   ]
  },
  {
   "cell_type": "code",
   "execution_count": 68,
   "metadata": {
    "collapsed": false
   },
   "outputs": [
    {
     "data": {
      "image/png": "[encoded data removed]",
      "text/latex": [
       "$$\\left[\\begin{matrix}\\frac{1}{\\sqrt{- u^{2} + 1}} & \\frac{\\Phi u}{\\left(- u^{2} + 1\\right)^{\\frac{3}{2}}} & \\Phi \\alpha\\\\\\frac{u}{- u^{2} + 1} & \\frac{\\Phi \\left(\\frac{2 u^{2}}{- u^{2} + 1} + 1\\right)}{- u^{2} + 1} & \\frac{2 \\Phi \\alpha u}{\\sqrt{- u^{2} + 1}}\\\\\\frac{\\alpha u^{2}}{- u^{2} + 1} & \\frac{\\Phi \\alpha}{- u^{2} + 1} \\left(u \\left(\\frac{2 u^{2}}{- u^{2} + 1} + 1\\right) + u\\right) & \\frac{2 \\Phi \\alpha^{2} u^{2}}{\\sqrt{- u^{2} + 1}}\\end{matrix}\\right]$$"
      ],
      "text/plain": [
       "⎡      1                   Φ⋅u                           ⎤\n",
       "⎢─────────────        ─────────────              Φ⋅α     ⎥\n",
       "⎢   __________                  3/2                      ⎥\n",
       "⎢  ╱    2             ⎛   2    ⎞                         ⎥\n",
       "⎢╲╱  - u  + 1         ⎝- u  + 1⎠                         ⎥\n",
       "⎢                                                        ⎥\n",
       "⎢                      ⎛     2      ⎞                    ⎥\n",
       "⎢                      ⎜  2⋅u       ⎟                    ⎥\n",
       "⎢                    Φ⋅⎜──────── + 1⎟                    ⎥\n",
       "⎢                      ⎜   2        ⎟                    ⎥\n",
       "⎢     u                ⎝- u  + 1    ⎠          2⋅Φ⋅α⋅u   ⎥\n",
       "⎢  ────────          ────────────────       ─────────────⎥\n",
       "⎢     2                     2                  __________⎥\n",
       "⎢  - u  + 1              - u  + 1             ╱    2     ⎥\n",
       "⎢                                           ╲╱  - u  + 1 ⎥\n",
       "⎢                                                        ⎥\n",
       "⎢                   ⎛  ⎛     2      ⎞    ⎞               ⎥\n",
       "⎢                   ⎜  ⎜  2⋅u       ⎟    ⎟               ⎥\n",
       "⎢               Φ⋅α⋅⎜u⋅⎜──────── + 1⎟ + u⎟               ⎥\n",
       "⎢       2           ⎜  ⎜   2        ⎟    ⎟         2  2  ⎥\n",
       "⎢    α⋅u            ⎝  ⎝- u  + 1    ⎠    ⎠    2⋅Φ⋅α ⋅u   ⎥\n",
       "⎢  ────────     ──────────────────────────  ─────────────⎥\n",
       "⎢     2                     2                  __________⎥\n",
       "⎢  - u  + 1              - u  + 1             ╱    2     ⎥\n",
       "⎣                                           ╲╱  - u  + 1 ⎦"
      ]
     },
     "execution_count": 68,
     "metadata": {},
     "output_type": "execute_result"
    }
   ],
   "source": [
    "dudw"
   ]
  },
  {
   "cell_type": "code",
   "execution_count": 69,
   "metadata": {
    "collapsed": false
   },
   "outputs": [],
   "source": [
    "dudw_inv = dudw.inv()\n",
    "dudw_inv.simplify()"
   ]
  },
  {
   "cell_type": "code",
   "execution_count": 70,
   "metadata": {
    "collapsed": false
   },
   "outputs": [
    {
     "data": {
      "image/png": "[encoded data removed]",
      "text/latex": [
       "$$\\left[\\begin{matrix}2 \\sqrt{- u^{2} + 1} & 2 u - \\frac{2}{u} & \\frac{- u^{2} + 1}{\\alpha u^{2}}\\\\0 & \\frac{1}{\\Phi} \\left(u^{2} - 1\\right) & \\frac{- u^{2} + 1}{\\Phi \\alpha u}\\\\- \\frac{1}{\\Phi \\alpha} & \\frac{- u^{2} + 2}{\\Phi \\alpha u \\sqrt{- u^{2} + 1}} & - \\frac{1}{\\Phi \\alpha^{2} u^{2} \\sqrt{- u^{2} + 1}}\\end{matrix}\\right]$$"
      ],
      "text/plain": [
       "⎡     __________                                2           ⎤\n",
       "⎢    ╱    2                   2              - u  + 1       ⎥\n",
       "⎢2⋅╲╱  - u  + 1         2⋅u - ─              ────────       ⎥\n",
       "⎢                             u                   2         ⎥\n",
       "⎢                                              α⋅u          ⎥\n",
       "⎢                                                           ⎥\n",
       "⎢                        2                      2           ⎥\n",
       "⎢                       u  - 1               - u  + 1       ⎥\n",
       "⎢       0               ──────               ────────       ⎥\n",
       "⎢                         Φ                   Φ⋅α⋅u         ⎥\n",
       "⎢                                                           ⎥\n",
       "⎢                          2                                ⎥\n",
       "⎢      -1               - u  + 2                -1          ⎥\n",
       "⎢      ───        ───────────────────  ─────────────────────⎥\n",
       "⎢      Φ⋅α                 __________             __________⎥\n",
       "⎢                         ╱    2          2  2   ╱    2     ⎥\n",
       "⎣                 Φ⋅α⋅u⋅╲╱  - u  + 1   Φ⋅α ⋅u ⋅╲╱  - u  + 1 ⎦"
      ]
     },
     "execution_count": 70,
     "metadata": {},
     "output_type": "execute_result"
    }
   ],
   "source": [
    "dudw_inv"
   ]
  },
  {
   "cell_type": "code",
   "execution_count": 71,
   "metadata": {
    "collapsed": false
   },
   "outputs": [
    {
     "data": {
      "image/png": "[encoded data removed]",
      "text/latex": [
       "$$\\left[\\begin{matrix}\\frac{u}{\\sqrt{- u^{2} + 1}} & \\frac{\\Phi \\left(\\frac{u^{2}}{- u^{2} + 1} + 1\\right)}{\\sqrt{- u^{2} + 1}} & \\Phi \\alpha u\\\\\\frac{u^{2}}{- u^{2} + 1} + 1 & \\frac{\\Phi}{- u^{2} + 1} \\left(u \\left(\\frac{2 u^{2}}{- u^{2} + 1} + 1\\right) + u\\right) & \\frac{2 \\Phi \\alpha u^{2}}{\\sqrt{- u^{2} + 1}}\\\\- \\frac{\\alpha u}{- u^{2} + 1} & \\frac{\\Phi}{- u^{2} + 1} \\left(- \\frac{2 \\alpha u^{2}}{- u^{2} + 1} - \\alpha\\right) & - \\frac{2 \\Phi \\alpha^{2} u}{\\sqrt{- u^{2} + 1}}\\end{matrix}\\right]$$"
      ],
      "text/plain": [
       "⎡                     ⎛    2       ⎞                   ⎤\n",
       "⎢                     ⎜   u        ⎟                   ⎥\n",
       "⎢                   Φ⋅⎜──────── + 1⎟                   ⎥\n",
       "⎢                     ⎜   2        ⎟                   ⎥\n",
       "⎢      u              ⎝- u  + 1    ⎠                   ⎥\n",
       "⎢─────────────      ────────────────          Φ⋅α⋅u    ⎥\n",
       "⎢   __________          __________                     ⎥\n",
       "⎢  ╱    2              ╱    2                          ⎥\n",
       "⎢╲╱  - u  + 1        ╲╱  - u  + 1                      ⎥\n",
       "⎢                                                      ⎥\n",
       "⎢                 ⎛  ⎛     2      ⎞    ⎞               ⎥\n",
       "⎢                 ⎜  ⎜  2⋅u       ⎟    ⎟               ⎥\n",
       "⎢               Φ⋅⎜u⋅⎜──────── + 1⎟ + u⎟               ⎥\n",
       "⎢    2            ⎜  ⎜   2        ⎟    ⎟            2  ⎥\n",
       "⎢   u             ⎝  ⎝- u  + 1    ⎠    ⎠     2⋅Φ⋅α⋅u   ⎥\n",
       "⎢──────── + 1   ────────────────────────  ─────────────⎥\n",
       "⎢   2                      2                 __________⎥\n",
       "⎢- u  + 1               - u  + 1            ╱    2     ⎥\n",
       "⎢                                         ╲╱  - u  + 1 ⎥\n",
       "⎢                                                      ⎥\n",
       "⎢                    ⎛        2     ⎞                  ⎥\n",
       "⎢                    ⎜   2⋅α⋅u      ⎟                  ⎥\n",
       "⎢                  Φ⋅⎜- ──────── - α⎟                  ⎥\n",
       "⎢                    ⎜     2        ⎟             2    ⎥\n",
       "⎢   -α⋅u             ⎝  - u  + 1    ⎠       -2⋅Φ⋅α ⋅u  ⎥\n",
       "⎢  ────────        ──────────────────     ─────────────⎥\n",
       "⎢     2                    2                 __________⎥\n",
       "⎢  - u  + 1             - u  + 1            ╱    2     ⎥\n",
       "⎣                                         ╲╱  - u  + 1 ⎦"
      ]
     },
     "execution_count": 71,
     "metadata": {},
     "output_type": "execute_result"
    }
   ],
   "source": [
    "dfdw = sympy.zeros(3,3)\n",
    "\n",
    "dfdw[0,0] = W*(u-bx/al)\n",
    "dfdw[0,1] = Ph*W*(1 + W**2*ud*(u-bx/al))\n",
    "dfdw[0,2] = Ph*al*(u-bx/al)\n",
    "\n",
    "dfdw[1,0] = W**2*ud*(u-bx/al) + 1\n",
    "dfdw[1,1] = Ph*W**2*((1 + 2*W**2*ud*u)*(u-bx/al) + u)\n",
    "dfdw[1,2] = 2*Ph*al*W*ud *(u-bx/al)\n",
    "\n",
    "dfdw[2,0] = W**2*(u-bx/al)*(ud*bx - al)\n",
    "dfdw[2,1] = Ph*W**2*((u-bx/al)*(bx + 2*W**2*u*(ud*bx-al)) + (ud*bx-al))\n",
    "dfdw[2,2] = 2*Ph*al*W*(u-bx/al)*(ud*bx - al)\n",
    "\n",
    "dfdw"
   ]
  },
  {
   "cell_type": "code",
   "execution_count": 72,
   "metadata": {
    "collapsed": false
   },
   "outputs": [],
   "source": [
    "A = dfdw*dudw_inv"
   ]
  },
  {
   "cell_type": "code",
   "execution_count": 73,
   "metadata": {
    "collapsed": false
   },
   "outputs": [],
   "source": [
    "A.simplify()"
   ]
  },
  {
   "cell_type": "code",
   "execution_count": 75,
   "metadata": {
    "collapsed": false
   },
   "outputs": [],
   "source": [
    "evals = A.eigenvals()"
   ]
  },
  {
   "cell_type": "code",
   "execution_count": 81,
   "metadata": {
    "collapsed": false
   },
   "outputs": [],
   "source": [
    "P, D = A.diagonalize()"
   ]
  },
  {
   "cell_type": "code",
   "execution_count": 79,
   "metadata": {
    "collapsed": false
   },
   "outputs": [
    {
     "name": "stdout",
     "output_type": "stream",
     "text": [
      "{-((-3*u**2 + 2)**2/u**2 - 3/u**2)/(3*(-1/2 + sqrt(3)*I/2)*(sqrt(-4*((-3*u**2 + 2)**2/u**2 - 3/u**2)**3 + (27*(-2*u**2 + 1)/u + 2*(-3*u**2 + 2)**3/u**3 - 9*(-3*u**2 + 2)/u**3)**2)/2 + 27*(-2*u**2 + 1)/(2*u) + (-3*u**2 + 2)**3/u**3 - 9*(-3*u**2 + 2)/(2*u**3))**(1/3)) - (-1/2 + sqrt(3)*I/2)*(sqrt(-4*((-3*u**2 + 2)**2/u**2 - 3/u**2)**3 + (27*(-2*u**2 + 1)/u + 2*(-3*u**2 + 2)**3/u**3 - 9*(-3*u**2 + 2)/u**3)**2)/2 + 27*(-2*u**2 + 1)/(2*u) + (-3*u**2 + 2)**3/u**3 - 9*(-3*u**2 + 2)/(2*u**3))**(1/3)/3 - (-3*u**2 + 2)/(3*u): 1, -((-3*u**2 + 2)**2/u**2 - 3/u**2)/(3*(sqrt(-4*((-3*u**2 + 2)**2/u**2 - 3/u**2)**3 + (27*(-2*u**2 + 1)/u + 2*(-3*u**2 + 2)**3/u**3 - 9*(-3*u**2 + 2)/u**3)**2)/2 + 27*(-2*u**2 + 1)/(2*u) + (-3*u**2 + 2)**3/u**3 - 9*(-3*u**2 + 2)/(2*u**3))**(1/3)) - (sqrt(-4*((-3*u**2 + 2)**2/u**2 - 3/u**2)**3 + (27*(-2*u**2 + 1)/u + 2*(-3*u**2 + 2)**3/u**3 - 9*(-3*u**2 + 2)/u**3)**2)/2 + 27*(-2*u**2 + 1)/(2*u) + (-3*u**2 + 2)**3/u**3 - 9*(-3*u**2 + 2)/(2*u**3))**(1/3)/3 - (-3*u**2 + 2)/(3*u): 1, -((-3*u**2 + 2)**2/u**2 - 3/u**2)/(3*(-1/2 - sqrt(3)*I/2)*(sqrt(-4*((-3*u**2 + 2)**2/u**2 - 3/u**2)**3 + (27*(-2*u**2 + 1)/u + 2*(-3*u**2 + 2)**3/u**3 - 9*(-3*u**2 + 2)/u**3)**2)/2 + 27*(-2*u**2 + 1)/(2*u) + (-3*u**2 + 2)**3/u**3 - 9*(-3*u**2 + 2)/(2*u**3))**(1/3)) - (-1/2 - sqrt(3)*I/2)*(sqrt(-4*((-3*u**2 + 2)**2/u**2 - 3/u**2)**3 + (27*(-2*u**2 + 1)/u + 2*(-3*u**2 + 2)**3/u**3 - 9*(-3*u**2 + 2)/u**3)**2)/2 + 27*(-2*u**2 + 1)/(2*u) + (-3*u**2 + 2)**3/u**3 - 9*(-3*u**2 + 2)/(2*u**3))**(1/3)/3 - (-3*u**2 + 2)/(3*u): 1}\n"
     ]
    }
   ],
   "source": [
    "print(evals)"
   ]
  },
  {
   "cell_type": "code",
   "execution_count": 80,
   "metadata": {
    "collapsed": false
   },
   "outputs": [
    {
     "name": "stdout",
     "output_type": "stream",
     "text": [
      "(2**(2/3)*u**2*((-54*u**4 + u**3*sqrt((-4*((-3*u**2 + 2)**2 - 3)**3 + (27*u**2*(-2*u**2 + 1) + 27*u**2 + 2*(-3*u**2 + 2)**3 - 18)**2)/u**6) + 54*u**2 - 2*(3*u**2 - 2)**3 - 18)/u**3)**(2/3)*(1 - sqrt(3)*I)**2 + 4*u*((u**3*sqrt((-4*((-3*u**2 + 2)**2 - 3)**3 + (27*u**2*(-2*u**2 + 1) + 27*u**2 + 2*(-3*u**2 + 2)**3 - 18)**2)/u**6) + 27*u**2*(-2*u**2 + 1) + 27*u**2 - 2*(3*u**2 - 2)**3 - 18)/u**3)**(1/3)*(1 - sqrt(3)*I)*(3*u**2 - 2) + 8*2**(1/3)*((3*u**2 - 2)**2 - 3))/(12*u**2*((u**3*sqrt((-4*((-3*u**2 + 2)**2 - 3)**3 + (27*u**2*(-2*u**2 + 1) + 27*u**2 + 2*(-3*u**2 + 2)**3 - 18)**2)/u**6) + 27*u**2*(-2*u**2 + 1) + 27*u**2 - 2*(3*u**2 - 2)**3 - 18)/u**3)**(1/3)*(1 - sqrt(3)*I))\n",
      "-3*u**2/(-27*u**3 + 27*u + 3*sqrt(6)*sqrt(27*u**4 - 54*u**2 + 36 - 8/u**2 + u**(-4)) - 9/u - 1/u**3)**(1/3) + u - (-27*u**3 + 27*u + 3*sqrt(6)*sqrt(27*u**4 - 54*u**2 + 36 - 8/u**2 + u**(-4)) - 9/u - 1/u**3)**(1/3)/3 + 4/(-27*u**3 + 27*u + 3*sqrt(6)*sqrt(27*u**4 - 54*u**2 + 36 - 8/u**2 + u**(-4)) - 9/u - 1/u**3)**(1/3) - 2/(3*u) - 1/(3*u**2*(-27*u**3 + 27*u + 3*sqrt(6)*sqrt(27*u**4 - 54*u**2 + 36 - 8/u**2 + u**(-4)) - 9/u - 1/u**3)**(1/3))\n",
      "(2**(2/3)*u**2*((-54*u**4 + u**3*sqrt((-4*((-3*u**2 + 2)**2 - 3)**3 + (27*u**2*(-2*u**2 + 1) + 27*u**2 + 2*(-3*u**2 + 2)**3 - 18)**2)/u**6) + 54*u**2 - 2*(3*u**2 - 2)**3 - 18)/u**3)**(2/3)*(1 + sqrt(3)*I)**2 + 4*u*((u**3*sqrt((-4*((-3*u**2 + 2)**2 - 3)**3 + (27*u**2*(-2*u**2 + 1) + 27*u**2 + 2*(-3*u**2 + 2)**3 - 18)**2)/u**6) + 27*u**2*(-2*u**2 + 1) + 27*u**2 - 2*(3*u**2 - 2)**3 - 18)/u**3)**(1/3)*(1 + sqrt(3)*I)*(3*u**2 - 2) + 8*2**(1/3)*((3*u**2 - 2)**2 - 3))/(12*u**2*((u**3*sqrt((-4*((-3*u**2 + 2)**2 - 3)**3 + (27*u**2*(-2*u**2 + 1) + 27*u**2 + 2*(-3*u**2 + 2)**3 - 18)**2)/u**6) + 27*u**2*(-2*u**2 + 1) + 27*u**2 - 2*(3*u**2 - 2)**3 - 18)/u**3)**(1/3)*(1 + sqrt(3)*I))\n"
     ]
    }
   ],
   "source": [
    "for x in evals:\n",
    "    print(x.simplify())"
   ]
  },
  {
   "cell_type": "code",
   "execution_count": 74,
   "metadata": {
    "collapsed": false
   },
   "outputs": [
    {
     "data": {
      "image/png": "[encoded data removed]",
      "text/latex": [
       "$$\\left[\\begin{matrix}u & - \\sqrt{- u^{2} + 1} & \\frac{\\sqrt{- u^{2} + 1}}{\\alpha u}\\\\2 \\sqrt{- u^{2} + 1} & 2 u - \\frac{2}{u} & \\frac{1}{\\alpha u^{2}}\\\\0 & - \\alpha & 0\\end{matrix}\\right]$$"
      ],
      "text/plain": [
       "⎡                                    __________⎤\n",
       "⎢                     __________    ╱    2     ⎥\n",
       "⎢                    ╱    2       ╲╱  - u  + 1 ⎥\n",
       "⎢       u         -╲╱  - u  + 1   ─────────────⎥\n",
       "⎢                                      α⋅u     ⎥\n",
       "⎢                                              ⎥\n",
       "⎢     __________                               ⎥\n",
       "⎢    ╱    2                2           1       ⎥\n",
       "⎢2⋅╲╱  - u  + 1      2⋅u - ─          ────     ⎥\n",
       "⎢                          u             2     ⎥\n",
       "⎢                                     α⋅u      ⎥\n",
       "⎢                                              ⎥\n",
       "⎣       0               -α              0      ⎦"
      ]
     },
     "execution_count": 74,
     "metadata": {},
     "output_type": "execute_result"
    }
   ],
   "source": [
    "A"
   ]
  },
  {
   "cell_type": "code",
   "execution_count": 66,
   "metadata": {
    "collapsed": false
   },
   "outputs": [
    {
     "data": {
      "image/png": "[encoded data removed]",
      "text/latex": [
       "$$\\frac{2 \\Phi^{2} \\alpha^{2} u^{4}}{- u^{6} + 3 u^{4} - 3 u^{2} + 1} + \\frac{3 \\Phi^{2} \\alpha^{2} u^{2}}{u^{4} - 2 u^{2} + 1} - \\frac{2 \\Phi^{2} \\alpha u^{4}}{- u^{6} + 3 u^{4} - 3 u^{2} + 1} - \\frac{4 \\Phi^{2} \\alpha u^{2}}{u^{4} - 2 u^{2} + 1}$$"
      ],
      "text/plain": [
       "         2  2  4              2  2  2             2    4               2    2 \n",
       "      2⋅Φ ⋅α ⋅u            3⋅Φ ⋅α ⋅u           2⋅Φ ⋅α⋅u             4⋅Φ ⋅α⋅u  \n",
       "────────────────────── + ───────────── - ────────────────────── - ────────────\n",
       "   6      4      2        4      2          6      4      2        4      2   \n",
       "- u  + 3⋅u  - 3⋅u  + 1   u  - 2⋅u  + 1   - u  + 3⋅u  - 3⋅u  + 1   u  - 2⋅u  + \n",
       "\n",
       " \n",
       " \n",
       "─\n",
       " \n",
       "1"
      ]
     },
     "execution_count": 66,
     "metadata": {},
     "output_type": "execute_result"
    }
   ],
   "source": [
    "dudw.det()"
   ]
  },
  {
   "cell_type": "code",
   "execution_count": 78,
   "metadata": {
    "collapsed": false
   },
   "outputs": [
    {
     "ename": "AttributeError",
     "evalue": "'dict' object has no attribute 'simplify'",
     "output_type": "error",
     "traceback": [
      "\u001b[1;31m---------------------------------------------------------------------------\u001b[0m",
      "\u001b[1;31mAttributeError\u001b[0m                            Traceback (most recent call last)",
      "\u001b[1;32m<ipython-input-78-1eaca1d5ce9f>\u001b[0m in \u001b[0;36m<module>\u001b[1;34m()\u001b[0m\n\u001b[1;32m----> 1\u001b[1;33m \u001b[0mevals\u001b[0m\u001b[1;33m.\u001b[0m\u001b[0msimplify\u001b[0m\u001b[1;33m(\u001b[0m\u001b[1;33m)\u001b[0m\u001b[1;33m\u001b[0m\u001b[0m\n\u001b[0m",
      "\u001b[1;31mAttributeError\u001b[0m: 'dict' object has no attribute 'simplify'"
     ]
    }
   ],
   "source": [
    "evals.simplify()"
   ]
  },
  {
   "cell_type": "code",
   "execution_count": 90,
   "metadata": {
    "collapsed": false
   },
   "outputs": [
    {
     "data": {
      "image/png": "[encoded data removed]",
      "text/latex": [
       "$$\\left[\\begin{matrix}u & - \\sqrt{- u^{2} + 1} & \\frac{\\sqrt{- u^{2} + 1}}{\\alpha u}\\\\2 \\sqrt{- u^{2} + 1} & 2 u - \\frac{2}{u} & \\frac{1}{\\alpha u^{2}}\\\\0 & - \\alpha & 0\\end{matrix}\\right]$$"
      ],
      "text/plain": [
       "⎡                                    __________⎤\n",
       "⎢                     __________    ╱    2     ⎥\n",
       "⎢                    ╱    2       ╲╱  - u  + 1 ⎥\n",
       "⎢       u         -╲╱  - u  + 1   ─────────────⎥\n",
       "⎢                                      α⋅u     ⎥\n",
       "⎢                                              ⎥\n",
       "⎢     __________                               ⎥\n",
       "⎢    ╱    2                2           1       ⎥\n",
       "⎢2⋅╲╱  - u  + 1      2⋅u - ─          ────     ⎥\n",
       "⎢                          u             2     ⎥\n",
       "⎢                                     α⋅u      ⎥\n",
       "⎢                                              ⎥\n",
       "⎣       0               -α              0      ⎦"
      ]
     },
     "execution_count": 90,
     "metadata": {},
     "output_type": "execute_result"
    }
   ],
   "source": [
    "B = sympy.zeros(3,3)\n",
    "B[0,0] = u\n",
    "B[0,1] = -1/W\n",
    "B[0,2] = 1/(al*u*W)\n",
    "B[1,0] = 2/W\n",
    "B[1,1] = 2*u - 2/u\n",
    "B[1,2] = 1/(al*u**2)\n",
    "B[2,1] = -al\n",
    "B"
   ]
  },
  {
   "cell_type": "code",
   "execution_count": 97,
   "metadata": {
    "collapsed": false
   },
   "outputs": [],
   "source": [
    "w = sympy.symbols('w')\n",
    "B = B.subs(W,w)"
   ]
  },
  {
   "cell_type": "code",
   "execution_count": 98,
   "metadata": {
    "collapsed": true
   },
   "outputs": [],
   "source": [
    "PB, DB = B.diagonalize()"
   ]
  },
  {
   "cell_type": "code",
   "execution_count": 105,
   "metadata": {
    "collapsed": false
   },
   "outputs": [
    {
     "data": {
      "image/png": "[encoded data removed]",
      "text/latex": [
       "$$\\left[\\begin{matrix}w & \\Phi u_{i} w^{3} & \\Phi v_{i} w^{3}\\\\u_{i} w^{2} & \\Phi w^{2} \\left(2 u_{i}^{2} w^{2} + 1\\right) & 2 \\Phi u_{i} v_{i} w^{4}\\\\v_{i} w^{2} & 2 \\Phi u_{i} v_{i} w^{4} & \\Phi w^{2} \\left(2 v_{i}^{2} w^{2} + 1\\right)\\end{matrix}\\right]$$"
      ],
      "text/plain": [
       "⎡                   3                    3      ⎤\n",
       "⎢  w          Φ⋅uᵢ⋅w               Φ⋅vᵢ⋅w       ⎥\n",
       "⎢                                               ⎥\n",
       "⎢    2     2 ⎛    2  2    ⎞                4    ⎥\n",
       "⎢uᵢ⋅w   Φ⋅w ⋅⎝2⋅uᵢ ⋅w  + 1⎠     2⋅Φ⋅uᵢ⋅vᵢ⋅w     ⎥\n",
       "⎢                                               ⎥\n",
       "⎢    2                4         2 ⎛    2  2    ⎞⎥\n",
       "⎣vᵢ⋅w      2⋅Φ⋅uᵢ⋅vᵢ⋅w       Φ⋅w ⋅⎝2⋅vᵢ ⋅w  + 1⎠⎦"
      ]
     },
     "execution_count": 105,
     "metadata": {},
     "output_type": "execute_result"
    }
   ],
   "source": [
    "dudw = sympy.zeros(3,3)\n",
    "dudw[0,0] = w\n",
    "dudw[0,1] = Ph*ud*w**3\n",
    "dudw[0,2] = Ph*vd*w**3\n",
    "\n",
    "dudw[1,0] = w**2*ud\n",
    "dudw[1,1] = Ph*w**2*(1+2*ud*ud*w**2)\n",
    "dudw[1,2] = Ph*w**2*2*ud*vd*w**2\n",
    "\n",
    "dudw[2,0] = w**2*vd\n",
    "dudw[2,1] = Ph*w**2*2*ud*vd*w**2\n",
    "dudw[2,2] = Ph*w**2*(1+2*vd**2*w**2)\n",
    "\n",
    "dudw"
   ]
  },
  {
   "cell_type": "code",
   "execution_count": 106,
   "metadata": {
    "collapsed": false
   },
   "outputs": [
    {
     "data": {
      "image/png": "[encoded data removed]",
      "text/latex": [
       "$$\\Phi^{2} u_{i}^{2} w^{7} + \\Phi^{2} v_{i}^{2} w^{7} + \\Phi^{2} w^{5}$$"
      ],
      "text/plain": [
       " 2   2  7    2   2  7    2  5\n",
       "Φ ⋅uᵢ ⋅w  + Φ ⋅vᵢ ⋅w  + Φ ⋅w "
      ]
     },
     "execution_count": 106,
     "metadata": {},
     "output_type": "execute_result"
    }
   ],
   "source": [
    "dudw.det()"
   ]
  },
  {
   "cell_type": "code",
   "execution_count": 109,
   "metadata": {
    "collapsed": false
   },
   "outputs": [],
   "source": [
    "dudw_inv = dudw.inv()"
   ]
  },
  {
   "cell_type": "code",
   "execution_count": 125,
   "metadata": {
    "collapsed": false
   },
   "outputs": [
    {
     "data": {
      "image/png": "[encoded data removed]",
      "text/latex": [
       "$$\\left[\\begin{matrix}w \\left(- \\beta^{x} + u\\right) & \\Phi w \\left(u_{i} w^{2} \\left(- \\beta^{x} + u\\right) + 1\\right) & \\Phi v_{i} w^{3} \\left(- \\beta^{x} + u\\right)\\\\u_{i} w^{2} \\left(- \\beta^{x} + u\\right) + 1 & \\Phi w^{2} \\left(u + \\left(- \\beta^{x} + u\\right) \\left(2 u u_{i} w^{2} + 1\\right)\\right) & \\Phi u v_{i} w^{4} \\left(- \\beta^{x} + u\\right)\\\\v_{i} w^{2} \\left(- \\beta^{x} + u\\right) & 2 \\Phi u_{i} v w^{4} \\left(- \\beta^{x} + u\\right) & \\Phi w^{2} \\left(u + \\left(- \\beta^{x} + u\\right) \\left(2 v v_{i} w^{2} + 1\\right)\\right)\\end{matrix}\\right]$$"
      ],
      "text/plain": [
       "⎡                                ⎛    2                ⎞                      \n",
       "⎢    w⋅(-β__x + u)           Φ⋅w⋅⎝uᵢ⋅w ⋅(-β__x + u) + 1⎠                 Φ⋅vᵢ⋅\n",
       "⎢                                                                             \n",
       "⎢    2                     2 ⎛                ⎛        2    ⎞⎞                \n",
       "⎢uᵢ⋅w ⋅(-β__x + u) + 1  Φ⋅w ⋅⎝u + (-β__x + u)⋅⎝2⋅u⋅uᵢ⋅w  + 1⎠⎠          Φ⋅u⋅vᵢ\n",
       "⎢                                                                             \n",
       "⎢      2                                 4                         2 ⎛        \n",
       "⎣  vᵢ⋅w ⋅(-β__x + u)           2⋅Φ⋅uᵢ⋅v⋅w ⋅(-β__x + u)          Φ⋅w ⋅⎝u + (-β_\n",
       "\n",
       " 3                      ⎤\n",
       "w ⋅(-β__x + u)          ⎥\n",
       "                        ⎥\n",
       "  4                     ⎥\n",
       "⋅w ⋅(-β__x + u)         ⎥\n",
       "                        ⎥\n",
       "        ⎛        2    ⎞⎞⎥\n",
       "_x + u)⋅⎝2⋅v⋅vᵢ⋅w  + 1⎠⎠⎦"
      ]
     },
     "execution_count": 125,
     "metadata": {},
     "output_type": "execute_result"
    }
   ],
   "source": [
    "# set bi = 0\n",
    "dfdw = sympy.zeros(3,3)\n",
    "\n",
    "dfdw[0,0] = w*(u-bx)\n",
    "dfdw[0,1] = Ph*w*(1+w**2*ud*(u-bx))\n",
    "dfdw[0,2] = Ph*w*w**2*vd*(u-bx)\n",
    "\n",
    "dfdw[1,0] = w**2*ud*(u-bx) + 1\n",
    "dfdw[1,1] = Ph*w**2*((u-bx)*(1+2*w**2*ud*u)+u)\n",
    "dfdw[1,2] = Ph*w**2*((u-bx)*(vd*u*w**2))\n",
    "\n",
    "dfdw[2,0] = w**2*vd*(u-bx)\n",
    "dfdw[2,1] = Ph*w**2*((u-bx)*(2*w**2*ud*v))\n",
    "dfdw[2,2] = Ph*w**2*((u-bx)*(1+2*w**2*vd*v)+u)\n",
    "\n",
    "dfdw"
   ]
  },
  {
   "cell_type": "code",
   "execution_count": 126,
   "metadata": {
    "collapsed": false
   },
   "outputs": [],
   "source": [
    "a = dfdw * dudw_inv"
   ]
  },
  {
   "cell_type": "code",
   "execution_count": 127,
   "metadata": {
    "collapsed": true
   },
   "outputs": [],
   "source": [
    "a.simplify()"
   ]
  },
  {
   "cell_type": "code",
   "execution_count": 128,
   "metadata": {
    "collapsed": false
   },
   "outputs": [
    {
     "data": {
      "image/png": "[encoded data removed]",
      "text/latex": [
       "$$\\left[\\begin{matrix}\\frac{1}{u_{i}^{2} w^{2} + v_{i}^{2} w^{2} + 1} \\left(- \\beta^{x} u_{i}^{2} w^{2} - \\beta^{x} v_{i}^{2} w^{2} - \\beta^{x} + u u_{i}^{2} w^{2} + u v_{i}^{2} w^{2} + u - u_{i}\\right) & \\frac{v_{i}^{2} w^{2} + 1}{w \\left(u_{i}^{2} w^{2} + v_{i}^{2} w^{2} + 1\\right)} & - \\frac{u_{i} v_{i} w}{u_{i}^{2} w^{2} + v_{i}^{2} w^{2} + 1}\\\\\\frac{1}{w \\left(u_{i}^{2} w^{2} + v_{i}^{2} w^{2} + 1\\right)} \\left(2 \\beta^{x} u u_{i}^{2} w^{4} + \\beta^{x} u v_{i}^{2} w^{4} - 2 \\beta^{x} u_{i}^{3} w^{4} - 2 \\beta^{x} u_{i} v_{i}^{2} w^{4} - 2 u^{2} u_{i}^{2} w^{4} - u^{2} v_{i}^{2} w^{4} + 2 u u_{i}^{3} w^{4} + 2 u u_{i} v_{i}^{2} w^{4} - u u_{i} w^{2} + 2 u_{i}^{2} w^{2} + 2 v_{i}^{2} w^{2} + 1\\right) & \\frac{1}{u_{i}^{2} w^{2} + v_{i}^{2} w^{2} + 1} \\left(- \\beta^{x} u u_{i} v_{i}^{2} w^{4} - 2 \\beta^{x} u u_{i} w^{2} + \\beta^{x} u_{i}^{2} w^{2} - \\beta^{x} v_{i}^{2} w^{2} - \\beta^{x} + u^{2} u_{i} v_{i}^{2} w^{4} + 2 u^{2} u_{i} w^{2} - u u_{i}^{2} w^{2} + 2 u v_{i}^{2} w^{2} + 2 u - u_{i}\\right) & \\frac{v_{i}}{u_{i}^{2} w^{2} + v_{i}^{2} w^{2} + 1} \\left(u_{i} w^{2} \\left(\\beta^{x} - u\\right) - w^{2} \\left(u \\left(\\beta^{x} - u\\right) \\left(u_{i}^{2} w^{2} + 1\\right) + u_{i} \\left(u - \\left(\\beta^{x} - u\\right) \\left(2 u u_{i} w^{2} + 1\\right)\\right)\\right) - 1\\right)\\\\- \\frac{w}{u_{i}^{2} w^{2} + v_{i}^{2} w^{2} + 1} \\left(- 2 \\beta^{x} u_{i}^{2} v w^{2} + 2 \\beta^{x} u_{i}^{2} v_{i} w^{2} - 2 \\beta^{x} v v_{i}^{2} w^{2} + 2 \\beta^{x} v_{i}^{3} w^{2} + 2 u u_{i}^{2} v w^{2} - 2 u u_{i}^{2} v_{i} w^{2} + 2 u v v_{i}^{2} w^{2} - 2 u v_{i}^{3} w^{2} + u v_{i}\\right) & \\frac{u_{i} w^{2}}{u_{i}^{2} w^{2} + v_{i}^{2} w^{2} + 1} \\left(- 2 \\beta^{x} v + 2 \\beta^{x} v_{i} + 2 u v - 3 u v_{i}\\right) & \\frac{1}{u_{i}^{2} w^{2} + v_{i}^{2} w^{2} + 1} \\left(2 u_{i}^{2} v v_{i} w^{4} \\left(\\beta^{x} - u\\right) + v_{i}^{2} w^{2} \\left(\\beta^{x} - u\\right) + \\left(u - \\left(\\beta^{x} - u\\right) \\left(2 v v_{i} w^{2} + 1\\right)\\right) \\left(u_{i}^{2} w^{2} + 1\\right)\\right)\\end{matrix}\\right]$$"
      ],
      "text/plain": [
       "⎡                                                       2  2          2  2    \n",
       "⎢                                              - β__x⋅uᵢ ⋅w  - β__x⋅vᵢ ⋅w  - β\n",
       "⎢                                              ───────────────────────────────\n",
       "⎢                                                                       2  2  \n",
       "⎢                                                                     uᵢ ⋅w  +\n",
       "⎢                                                                             \n",
       "⎢           2  4            2  4            3  4               2  4      2   2\n",
       "⎢2⋅β__x⋅u⋅uᵢ ⋅w  + β__x⋅u⋅vᵢ ⋅w  - 2⋅β__x⋅uᵢ ⋅w  - 2⋅β__x⋅uᵢ⋅vᵢ ⋅w  - 2⋅u ⋅uᵢ \n",
       "⎢─────────────────────────────────────────────────────────────────────────────\n",
       "⎢                                                                     ⎛  2  2 \n",
       "⎢                                                                   w⋅⎝uᵢ ⋅w  \n",
       "⎢                                                                             \n",
       "⎢          ⎛           2    2            2     2              2  2            \n",
       "⎢       -w⋅⎝- 2⋅β__x⋅uᵢ ⋅v⋅w  + 2⋅β__x⋅uᵢ ⋅vᵢ⋅w  - 2⋅β__x⋅v⋅vᵢ ⋅w  + 2⋅β__x⋅vᵢ\n",
       "⎢       ──────────────────────────────────────────────────────────────────────\n",
       "⎢                                                                      2  2   \n",
       "⎣                                                                    uᵢ ⋅w  + \n",
       "\n",
       "          2  2       2  2                                                     \n",
       "__x + u⋅uᵢ ⋅w  + u⋅vᵢ ⋅w  + u - uᵢ                                            \n",
       "──────────────────────────────────                                            \n",
       "   2  2                                                                       \n",
       " vᵢ ⋅w  + 1                                                                   \n",
       "                                                                              \n",
       "  4    2   2  4         3  4            2  4         2       2  2       2  2  \n",
       "⋅w  - u ⋅vᵢ ⋅w  + 2⋅u⋅uᵢ ⋅w  + 2⋅u⋅uᵢ⋅vᵢ ⋅w  - u⋅uᵢ⋅w  + 2⋅uᵢ ⋅w  + 2⋅vᵢ ⋅w  +\n",
       "──────────────────────────────────────────────────────────────────────────────\n",
       "    2  2    ⎞                                                                 \n",
       "+ vᵢ ⋅w  + 1⎠                                                                 \n",
       "                                                                              \n",
       "3  2         2    2         2     2           2  2         3  2       ⎞       \n",
       " ⋅w  + 2⋅u⋅uᵢ ⋅v⋅w  - 2⋅u⋅uᵢ ⋅vᵢ⋅w  + 2⋅u⋅v⋅vᵢ ⋅w  - 2⋅u⋅vᵢ ⋅w  + u⋅vᵢ⎠       \n",
       "────────────────────────────────────────────────────────────────────────      \n",
       "  2  2                                                                        \n",
       "vᵢ ⋅w  + 1                                                                    \n",
       "\n",
       "                                                                    2  2      \n",
       "                                                                  vᵢ ⋅w  + 1  \n",
       "                                                           ───────────────────\n",
       "                                                             ⎛  2  2     2  2 \n",
       "                                                           w⋅⎝uᵢ ⋅w  + vᵢ ⋅w  \n",
       "                                                                              \n",
       "                  2  4                2          2  2          2  2           \n",
       " 1  - β__x⋅u⋅uᵢ⋅vᵢ ⋅w  - 2⋅β__x⋅u⋅uᵢ⋅w  + β__x⋅uᵢ ⋅w  - β__x⋅vᵢ ⋅w  - β__x + u\n",
       "──  ──────────────────────────────────────────────────────────────────────────\n",
       "                                                               2  2     2  2  \n",
       "                                                             uᵢ ⋅w  + vᵢ ⋅w  +\n",
       "                                                                              \n",
       "                                                   2                          \n",
       "                                               uᵢ⋅w ⋅(-2⋅β__x⋅v + 2⋅β__x⋅vᵢ + \n",
       "                                               ───────────────────────────────\n",
       "                                                              2  2     2  2   \n",
       "                                                            uᵢ ⋅w  + vᵢ ⋅w  + \n",
       "\n",
       "                                                                              \n",
       "                                                                              \n",
       "────                                                                          \n",
       "   ⎞                                                                          \n",
       "+ 1⎠                                                                          \n",
       "                                                                              \n",
       "2      2  4      2     2       2  2         2  2                ⎛    2        \n",
       " ⋅uᵢ⋅vᵢ ⋅w  + 2⋅u ⋅uᵢ⋅w  - u⋅uᵢ ⋅w  + 2⋅u⋅vᵢ ⋅w  + 2⋅u - uᵢ  vᵢ⋅⎝uᵢ⋅w ⋅(β__x -\n",
       "───────────────────────────────────────────────────────────  ─────────────────\n",
       "                                                                              \n",
       " 1                                                                            \n",
       "                                                                              \n",
       "                                                                   2       4  \n",
       "2⋅u⋅v - 3⋅u⋅vᵢ)                                                2⋅uᵢ ⋅v⋅vᵢ⋅w ⋅(\n",
       "───────────────                                                ───────────────\n",
       "                                                                              \n",
       "1                                                                             \n",
       "\n",
       "                                                                              \n",
       "                          -uᵢ⋅vᵢ⋅w                                            \n",
       "                     ───────────────────                                      \n",
       "                       2  2     2  2                                          \n",
       "                     uᵢ ⋅w  + vᵢ ⋅w  + 1                                      \n",
       "                                                                              \n",
       "       2 ⎛             ⎛  2  2    ⎞      ⎛               ⎛        2    ⎞⎞⎞    \n",
       " u) - w ⋅⎝u⋅(β__x - u)⋅⎝uᵢ ⋅w  + 1⎠ + uᵢ⋅⎝u - (β__x - u)⋅⎝2⋅u⋅uᵢ⋅w  + 1⎠⎠⎠ - 1\n",
       "──────────────────────────────────────────────────────────────────────────────\n",
       "                       2  2     2  2                                          \n",
       "                     uᵢ ⋅w  + vᵢ ⋅w  + 1                                      \n",
       "                                                                              \n",
       "              2  2              ⎛               ⎛        2    ⎞⎞ ⎛  2  2    ⎞ \n",
       "β__x - u) + vᵢ ⋅w ⋅(β__x - u) + ⎝u - (β__x - u)⋅⎝2⋅v⋅vᵢ⋅w  + 1⎠⎠⋅⎝uᵢ ⋅w  + 1⎠ \n",
       "───────────────────────────────────────────────────────────────────────────── \n",
       "                       2  2     2  2                                          \n",
       "                     uᵢ ⋅w  + vᵢ ⋅w  + 1                                      \n",
       "\n",
       " ⎤\n",
       " ⎥\n",
       " ⎥\n",
       " ⎥\n",
       " ⎥\n",
       " ⎥\n",
       "⎞⎥\n",
       "⎠⎥\n",
       "─⎥\n",
       " ⎥\n",
       " ⎥\n",
       " ⎥\n",
       " ⎥\n",
       " ⎥\n",
       " ⎥\n",
       " ⎥\n",
       " ⎦"
      ]
     },
     "execution_count": 128,
     "metadata": {},
     "output_type": "execute_result"
    }
   ],
   "source": [
    "a"
   ]
  },
  {
   "cell_type": "code",
   "execution_count": 129,
   "metadata": {
    "collapsed": false
   },
   "outputs": [],
   "source": [
    "evals = a.eigenvals()"
   ]
  },
  {
   "cell_type": "code",
   "execution_count": null,
   "metadata": {
    "collapsed": false
   },
   "outputs": [],
   "source": [
    "for x in evals:\n",
    "    print(x.simplify())"
   ]
  },
  {
   "cell_type": "code",
   "execution_count": null,
   "metadata": {
    "collapsed": true
   },
   "outputs": [],
   "source": []
  }
 ],
 "metadata": {
  "kernelspec": {
   "display_name": "Python 3",
   "language": "python",
   "name": "python3"
  },
  "language_info": {
   "codemirror_mode": {
    "name": "ipython",
    "version": 3
   },
   "file_extension": ".py",
   "mimetype": "text/x-python",
   "name": "python",
   "nbconvert_exporter": "python",
   "pygments_lexer": "ipython3",
   "version": "3.4.4"
  }
 },
 "nbformat": 4,
 "nbformat_minor": 0
}
