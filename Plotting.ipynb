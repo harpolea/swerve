{
 "cells": [
  {
   "cell_type": "markdown",
   "metadata": {},
   "source": [
    "# Plotting"
   ]
  },
  {
   "cell_type": "markdown",
   "metadata": {},
   "source": [
    "A notebook to plot the data output by the c++ code"
   ]
  },
  {
   "cell_type": "code",
   "execution_count": 1,
   "metadata": {
    "collapsed": true
   },
   "outputs": [],
   "source": [
    "import numpy as np\n",
    "import matplotlib.pyplot as plt\n",
    "% matplotlib inline\n",
    "from matplotlib import animation, cm\n",
    "from IPython.display import HTML\n",
    "from numpy.linalg import inv\n",
    "from mpl_toolkits.mplot3d import Axes3D"
   ]
  },
  {
   "cell_type": "code",
   "execution_count": null,
   "metadata": {
    "collapsed": false
   },
   "outputs": [],
   "source": [
    "data = np.loadtxt('../../Documents/Work/swerve/out.dat', delimiter=',')"
   ]
  },
  {
   "cell_type": "code",
   "execution_count": null,
   "metadata": {
    "collapsed": false
   },
   "outputs": [],
   "source": [
    "ts = data[:,0]\n",
    "xs = data[:,1]\n",
    "ys = data[:,2]\n",
    "ls = data[:,3]\n",
    "Ds = data[:,4]\n",
    "Sxs = data[:,5]\n",
    "Syx = data[:,6]\n"
   ]
  },
  {
   "cell_type": "code",
   "execution_count": 32,
   "metadata": {
    "collapsed": false
   },
   "outputs": [
    {
     "name": "stdout",
     "output_type": "stream",
     "text": [
      "500 500 0.020080321285140562 0.020080321285140562\n"
     ]
    }
   ],
   "source": [
    "# read input file \n",
    "input_file = open('input_file.txt', 'r')\n",
    "inputs = input_file.readlines()\n",
    "#xmax = 0\n",
    "#xmin = 0\n",
    "#ymax = 0\n",
    "#ymin = 0\n",
    "#nx = 0\n",
    "#ny = 0\n",
    "#dx = 0\n",
    "#dy = 0\n",
    "#print(inputs)\n",
    "\n",
    "for line in inputs:\n",
    "    name, *dat = line.split();\n",
    "    \n",
    "    if not (name == 'periodic'):\n",
    "        if len(dat) == 1:\n",
    "            if name in ('nx', 'ny', 'nt', 'nlayers', 'dprint'):\n",
    "                exec(name + ' = int(dat[0])')\n",
    "            else:\n",
    "                    \n",
    "                exec(name + ' = float(dat[0])')\n",
    "        else:\n",
    "            exec(name + ' = [float(d) for d in dat]')\n",
    "\n",
    "            \n",
    "dx = (xmax - xmin) / (nx-2)\n",
    "dy = (ymax - ymin) / (ny-2)\n",
    "dt = 0.1 * min(dx, dy)\n",
    "input_file.close()"
   ]
  },
  {
   "cell_type": "code",
   "execution_count": 30,
   "metadata": {
    "collapsed": false
   },
   "outputs": [
    {
     "ename": "NameError",
     "evalue": "name 'Ds' is not defined",
     "output_type": "error",
     "traceback": [
      "\u001b[1;31m---------------------------------------------------------------------------\u001b[0m",
      "\u001b[1;31mNameError\u001b[0m                                 Traceback (most recent call last)",
      "\u001b[1;32m<ipython-input-30-9eecd5d42734>\u001b[0m in \u001b[0;36m<module>\u001b[1;34m()\u001b[0m\n\u001b[0;32m     17\u001b[0m \u001b[1;32mfor\u001b[0m \u001b[0mi\u001b[0m \u001b[1;32min\u001b[0m \u001b[0mrange\u001b[0m\u001b[1;33m(\u001b[0m\u001b[0mnt\u001b[0m\u001b[1;33m*\u001b[0m\u001b[0mnlayers\u001b[0m\u001b[1;33m*\u001b[0m\u001b[0mnx\u001b[0m\u001b[1;33m*\u001b[0m\u001b[0mny\u001b[0m\u001b[1;33m)\u001b[0m\u001b[1;33m:\u001b[0m\u001b[1;33m\u001b[0m\u001b[0m\n\u001b[0;32m     18\u001b[0m     \u001b[1;31m#print(int(xs[i]*nx/xmax))\u001b[0m\u001b[1;33m\u001b[0m\u001b[1;33m\u001b[0m\u001b[0m\n\u001b[1;32m---> 19\u001b[1;33m     \u001b[0mD_2d\u001b[0m\u001b[1;33m[\u001b[0m\u001b[0mint\u001b[0m\u001b[1;33m(\u001b[0m\u001b[0mts\u001b[0m\u001b[1;33m[\u001b[0m\u001b[0mi\u001b[0m\u001b[1;33m]\u001b[0m\u001b[1;33m)\u001b[0m\u001b[1;33m,\u001b[0m \u001b[0mint\u001b[0m\u001b[1;33m(\u001b[0m\u001b[0mls\u001b[0m\u001b[1;33m[\u001b[0m\u001b[0mi\u001b[0m\u001b[1;33m]\u001b[0m\u001b[1;33m)\u001b[0m\u001b[1;33m,\u001b[0m \u001b[0mint\u001b[0m\u001b[1;33m(\u001b[0m\u001b[0mxs\u001b[0m\u001b[1;33m[\u001b[0m\u001b[0mi\u001b[0m\u001b[1;33m]\u001b[0m\u001b[1;33m)\u001b[0m\u001b[1;33m,\u001b[0m \u001b[0mint\u001b[0m\u001b[1;33m(\u001b[0m\u001b[0mys\u001b[0m\u001b[1;33m[\u001b[0m\u001b[0mi\u001b[0m\u001b[1;33m]\u001b[0m\u001b[1;33m)\u001b[0m\u001b[1;33m]\u001b[0m \u001b[1;33m=\u001b[0m \u001b[0mDs\u001b[0m\u001b[1;33m[\u001b[0m\u001b[0mi\u001b[0m\u001b[1;33m]\u001b[0m\u001b[1;33m\u001b[0m\u001b[0m\n\u001b[0m",
      "\u001b[1;31mNameError\u001b[0m: name 'Ds' is not defined"
     ]
    }
   ],
   "source": [
    "#dt = 10\n",
    "#nt = int(np.ceil(ts[-1]/dt+1)) \n",
    "t = range(nt)\n",
    "#nlayers = 2\n",
    "#xmax = 10.\n",
    "#ymax = 10.\n",
    "\n",
    "# assume square\n",
    "#nx = 500;#int(np.sqrt(len(ts) / (nlayers*nt)))\n",
    "#ny = 500;#int(np.sqrt(len(ts) / (nlayers*nt)))\n",
    "\n",
    "\n",
    "D_2d = np.zeros(((nt+1), nlayers, nx, ny))\n",
    "#Sx_2d = np.zeros((nt, nlayers, nx, ny))\n",
    "#Sy_2d = np.zeros((nt, nlayers, nx, ny))\n",
    "\n",
    "for i in range(nt*nlayers*nx*ny):\n",
    "    #print(int(xs[i]*nx/xmax))\n",
    "    D_2d[int(ts[i]), int(ls[i]), int(xs[i]), int(ys[i])] = Ds[i]"
   ]
  },
  {
   "cell_type": "code",
   "execution_count": null,
   "metadata": {
    "collapsed": false
   },
   "outputs": [],
   "source": [
    "x = np.linspace(0, xmax, num=nx, endpoint=False)\n",
    "y = np.linspace(0, ymax, num=ny, endpoint=False)"
   ]
  },
  {
   "cell_type": "code",
   "execution_count": null,
   "metadata": {
    "collapsed": true
   },
   "outputs": [],
   "source": [
    "X, Y = np.meshgrid(x,y)"
   ]
  },
  {
   "cell_type": "code",
   "execution_count": null,
   "metadata": {
    "collapsed": false
   },
   "outputs": [],
   "source": [
    "print(np.shape(X))\n",
    "print(np.shape(Y))\n",
    "np.shape(D_2d[0,1,:,:])"
   ]
  },
  {
   "cell_type": "code",
   "execution_count": null,
   "metadata": {
    "collapsed": false
   },
   "outputs": [],
   "source": [
    "fig = plt.figure(figsize=(12,10))\n",
    "ax = fig.gca(projection='3d')\n",
    "\n",
    "ax.set_xlim(0,10)\n",
    "ax.set_ylim(0,10)\n",
    "ax.set_zlim(0.7,1.4)\n",
    "\n",
    "ax.plot_surface(X,Y,D_2d[0,1,:,:].T, rstride=1, cstride=2, lw=0, cmap=cm.viridis, antialiased=True)\n",
    "\n",
    "ax.plot_wireframe(X,Y,D_2d[0,0,:,:].T, rstride=2, cstride=2, lw=0.1, cmap=cm.viridis, antialiased=True)\n",
    "\n",
    "#plt.plot(x,h[0,1:-1,0],x,h[1,1:-1,0], lw=2)\n",
    "plt.show()"
   ]
  },
  {
   "cell_type": "code",
   "execution_count": null,
   "metadata": {
    "collapsed": false
   },
   "outputs": [],
   "source": [
    "fig = plt.figure(figsize=(12,10))\n",
    "ax = fig.gca(projection='3d')\n",
    "\n",
    "surface_1 = ax.plot_surface(X,Y,D_2d[0,1,:,:].T, rstride=1, cstride=2, lw=0, cmap=cm.viridis, antialiased=True)\n",
    "surface_2 = ax.plot_wireframe(X,Y,D_2d[0,0,:,:].T, rstride=2, cstride=2, lw=0.1, cmap=cm.viridis, antialiased=True)\n",
    "\n",
    "def animate(i):\n",
    "    ax.clear()\n",
    "    ax.set_xlim(0,10)\n",
    "    ax.set_ylim(0,10)\n",
    "    ax.set_zlim(0.7,1.4)\n",
    "    ax.plot_surface(X,Y,D_2d[i,1,:,:].T, rstride=1, cstride=2, lw=0, cmap=cm.viridis, antialiased=True)\n",
    "    ax.plot_wireframe(X,Y,D_2d[i,0,:,:].T, rstride=2, cstride=2, lw=0.1, cmap=cm.viridis, antialiased=True)\n",
    "\n",
    "anim = animation.FuncAnimation(fig, animate, frames=60, interval=200)"
   ]
  },
  {
   "cell_type": "code",
   "execution_count": null,
   "metadata": {
    "collapsed": false
   },
   "outputs": [],
   "source": [
    "HTML(anim.to_html5_video())"
   ]
  },
  {
   "cell_type": "code",
   "execution_count": null,
   "metadata": {
    "collapsed": false
   },
   "outputs": [],
   "source": [
    "to_save = False\n",
    "\n",
    "if to_save:\n",
    "    Writer = animation.writers['ffmpeg']\n",
    "    writer = Writer(fps=5, metadata=dict(artist='Me'), bitrate=1800)\n",
    "    anim.save('gr_cuda.mp4', writer=writer)"
   ]
  },
  {
   "cell_type": "code",
   "execution_count": null,
   "metadata": {
    "collapsed": true
   },
   "outputs": [],
   "source": []
  }
 ],
 "metadata": {
  "kernelspec": {
   "display_name": "Python 3",
   "language": "python",
   "name": "python3"
  },
  "language_info": {
   "codemirror_mode": {
    "name": "ipython",
    "version": 3
   },
   "file_extension": ".py",
   "mimetype": "text/x-python",
   "name": "python",
   "nbconvert_exporter": "python",
   "pygments_lexer": "ipython3",
   "version": "3.4.4"
  }
 },
 "nbformat": 4,
 "nbformat_minor": 0
}
