{
 "cells": [
  {
   "cell_type": "markdown",
   "metadata": {},
   "source": [
    "# Plotting"
   ]
  },
  {
   "cell_type": "markdown",
   "metadata": {},
   "source": [
    "A notebook to plot the data output by the c++ code"
   ]
  },
  {
   "cell_type": "code",
   "execution_count": null,
   "metadata": {
    "collapsed": true
   },
   "outputs": [],
   "source": [
    "import numpy as np\n",
    "import matplotlib.pyplot as plt\n",
    "% matplotlib inline\n",
    "from matplotlib import animation, cm\n",
    "from IPython.display import HTML\n",
    "from numpy.linalg import inv\n",
    "from mpl_toolkits.mplot3d import Axes3D\n",
    "import tables as tb"
   ]
  },
  {
   "cell_type": "code",
   "execution_count": null,
   "metadata": {
    "collapsed": false
   },
   "outputs": [],
   "source": [
    "# read input file \n",
    "input_file = open('input_file.txt', 'r')\n",
    "inputs = input_file.readlines()\n",
    "\n",
    "for line in inputs:\n",
    "    name, *dat = line.split();\n",
    "    \n",
    "    if not (name == 'periodic' or name == 'outfile'):\n",
    "        if len(dat) == 1:\n",
    "            if name in ('nx', 'ny', 'nt', 'nlayers', 'dprint'):\n",
    "                exec(name + ' = int(dat[0])')\n",
    "            else:\n",
    "                    \n",
    "                exec(name + ' = float(dat[0])')\n",
    "        else:\n",
    "            exec(name + ' = [float(d) for d in dat]')\n",
    "    elif name == 'outfile':\n",
    "        outfile = dat[0]\n",
    "\n",
    "            \n",
    "dx = (xmax - xmin) / (nx-2)\n",
    "dy = (ymax - ymin) / (ny-2)\n",
    "dt = 0.1 * min(dx, dy)\n",
    "input_file.close()"
   ]
  },
  {
   "cell_type": "code",
   "execution_count": null,
   "metadata": {
    "collapsed": false
   },
   "outputs": [],
   "source": [
    "# read data\n",
    "outfile = '../../Documents/Work/swerve/out.h5'\n",
    "#outfile = 'out.dat'\n",
    "if (outfile[-2:] == 'h5'): #hdf5\n",
    "    f = tb.open_file(outfile, 'r')\n",
    "    table = f.root.SwerveOutput\n",
    "    D_2d = np.swapaxes(table[:,:,:,:,0], 1, 3)\n",
    "else: # assume some kind of csv\n",
    "    nx      =150\n",
    "    ny      =150\n",
    "    nt      =600\n",
    "    nlayers =2\n",
    "    xmin   = 0.0\n",
    "    xmax    =10.0\n",
    "    ymin    =0.0\n",
    "    ymax    =10.0\n",
    "    data = np.loadtxt(outfile, delimiter=',')\n",
    "    ts = data[:,0]\n",
    "    xs = data[:,1]\n",
    "    ys = data[:,2]\n",
    "    ls = data[:,3]\n",
    "    Ds = data[:,4]\n",
    "    #Sxs = data[:,5]\n",
    "    #Syx = data[:,6]\n",
    "    #t = range(int((nt+1)/dprint))*dprint\n",
    "    #print(len(Ds))\n",
    "    \n",
    "    D_2d = np.zeros((nt, nlayers, nx, ny))\n",
    "\n",
    "    #D_2d = np.zeros((len(Ds), nlayers, nx, ny))\n",
    "    #Sx_2d = np.zeros((nt, nlayers, nx, ny))\n",
    "    #Sy_2d = np.zeros((nt, nlayers, nx, ny))\n",
    "\n",
    "    for i in range(len(Ds)):\n",
    "        #print(int(xs[i]*nx/xmax))\n",
    "        #print(int(ts[i]), int(ls[i]), int(xs[i]), int(ys[i]))\n",
    "        D_2d[int(ts[i]), int(ls[i]), int(xs[i]), int(ys[i])] = Ds[i]"
   ]
  },
  {
   "cell_type": "code",
   "execution_count": null,
   "metadata": {
    "collapsed": false
   },
   "outputs": [],
   "source": [
    "x = np.linspace(0, xmax, num=nx-4, endpoint=False)\n",
    "y = np.linspace(0, ymax, num=ny-4, endpoint=False)"
   ]
  },
  {
   "cell_type": "code",
   "execution_count": null,
   "metadata": {
    "collapsed": true
   },
   "outputs": [],
   "source": [
    "X, Y = np.meshgrid(x,y)"
   ]
  },
  {
   "cell_type": "code",
   "execution_count": null,
   "metadata": {
    "collapsed": false
   },
   "outputs": [],
   "source": [
    "print(np.shape(X))\n",
    "print(np.shape(Y))\n",
    "print(np.shape(D_2d[0,1,2:-2,2:-2].T))"
   ]
  },
  {
   "cell_type": "code",
   "execution_count": null,
   "metadata": {
    "collapsed": false,
    "scrolled": false
   },
   "outputs": [],
   "source": [
    "fig = plt.figure(figsize=(12,10))\n",
    "ax = fig.gca(projection='3d')\n",
    "\n",
    "ax.set_xlim(0,10)\n",
    "ax.set_ylim(0,10)\n",
    "ax.set_zlim(0.7,1.4)\n",
    "#ax.set_zlim(-2,5)\n",
    "\n",
    "ax.plot_surface(X,Y,D_2d[1,1,2:-2,2:-2].T, rstride=1, cstride=2, lw=0, cmap=cm.viridis, antialiased=True)\n",
    "\n",
    "ax.plot_wireframe(X,Y,D_2d[1,0,2:-2,2:-2].T, rstride=2, cstride=2, lw=0.1, cmap=cm.viridis, antialiased=True)\n",
    "\n",
    "#plt.plot(x,h[0,1:-1,0],x,h[1,1:-1,0], lw=2)\n",
    "plt.show()"
   ]
  },
  {
   "cell_type": "code",
   "execution_count": null,
   "metadata": {
    "collapsed": false
   },
   "outputs": [],
   "source": [
    "fig = plt.figure(figsize=(12,10))\n",
    "ax = fig.gca(projection='3d')\n",
    "\n",
    "surface_1 = ax.plot_surface(X,Y,D_2d[0,1,2:-2,2:-2].T, rstride=1, cstride=2, lw=0, cmap=cm.viridis, antialiased=True)\n",
    "surface_2 = ax.plot_wireframe(X,Y,D_2d[0,0,2:-2,2:-2].T, rstride=2, cstride=2, lw=0.1, cmap=cm.viridis, antialiased=True)\n",
    "\n",
    "def animate(i):\n",
    "    ax.clear()\n",
    "    ax.set_xlim(0,10)\n",
    "    ax.set_ylim(0,10)\n",
    "    ax.set_zlim(0.7,1.4)\n",
    "    #ax.view_init(80)\n",
    "    ax.plot_surface(X,Y,D_2d[i,1,2:-2,2:-2].T, rstride=1, cstride=2, lw=0, cmap=cm.viridis, antialiased=True)\n",
    "    ax.plot_wireframe(X,Y,D_2d[i,0,2:-2,2:-2].T, rstride=2, cstride=2, lw=0.1, cmap=cm.viridis, antialiased=True)\n",
    "\n",
    "anim = animation.FuncAnimation(fig, animate, frames=50, interval=60)"
   ]
  },
  {
   "cell_type": "code",
   "execution_count": null,
   "metadata": {
    "collapsed": false
   },
   "outputs": [],
   "source": [
    "HTML(anim.to_html5_video())"
   ]
  },
  {
   "cell_type": "code",
   "execution_count": null,
   "metadata": {
    "collapsed": false
   },
   "outputs": [],
   "source": [
    "to_save = False\n",
    "\n",
    "if to_save:\n",
    "    Writer = animation.writers['ffmpeg']\n",
    "    writer = Writer(fps=5, metadata=dict(artist='Me'), bitrate=1800)\n",
    "    anim.save('gr_cuda.mp4', writer=writer)"
   ]
  },
  {
   "cell_type": "code",
   "execution_count": null,
   "metadata": {
    "collapsed": true
   },
   "outputs": [],
   "source": [
    "if (outfile[-2:] == 'h5'): #hdf5\n",
    "    f.close()"
   ]
  }
 ],
 "metadata": {
  "kernelspec": {
   "display_name": "Python 3",
   "language": "python",
   "name": "python3"
  },
  "language_info": {
   "codemirror_mode": {
    "name": "ipython",
    "version": 3
   },
   "file_extension": ".py",
   "mimetype": "text/x-python",
   "name": "python",
   "nbconvert_exporter": "python",
   "pygments_lexer": "ipython3",
   "version": "3.4.4"
  }
 },
 "nbformat": 4,
 "nbformat_minor": 0
}
