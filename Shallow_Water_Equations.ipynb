{
 "cells": [
  {
   "cell_type": "markdown",
   "metadata": {},
   "source": [
    "# Shallow Water Equations"
   ]
  },
  {
   "cell_type": "code",
   "execution_count": 13,
   "metadata": {
    "collapsed": true
   },
   "outputs": [],
   "source": [
    "import numpy as np\n",
    "import matplotlib.pyplot as plt\n",
    "% matplotlib inline"
   ]
  },
  {
   "cell_type": "markdown",
   "metadata": {},
   "source": [
    "## Newtonian, 2d, single layer"
   ]
  },
  {
   "cell_type": "code",
   "execution_count": 293,
   "metadata": {
    "collapsed": false
   },
   "outputs": [],
   "source": [
    "# define grids\n",
    "nx = 2000\n",
    "nt = 1000\n",
    "xmin = 0.\n",
    "xmax = 10.\n",
    "\n",
    "x = np.linspace(xmin, xmax, num=nx-2, endpoint=False)\n",
    "hu = np.zeros((nx, nt+1))\n",
    "h = np.zeros((nx, nt+1))\n",
    "# going to do sine wave so can use periodic boundary conditions\n",
    "h[1:-1,0] = 1 + 0.4 * np.exp(-(x-5)**2*2) #0.01 * np.sin(0.25 * np.pi + 2. * np.pi * x / (xmax - xmin)) + 1.\n",
    "h[0,0] = h[-2,0]\n",
    "h[-1,0] = h[1,0]\n",
    "\n",
    "#hu[:,0] = 0.1 * h[:,0]\n",
    "\n",
    "dx = x[1] - x[0]\n",
    "dt = 0.5 * dx\n",
    "\n",
    "# set gravity\n",
    "g = 1.0"
   ]
  },
  {
   "cell_type": "code",
   "execution_count": 274,
   "metadata": {
    "collapsed": false
   },
   "outputs": [
    {
     "data": {
      "image/png": "[encoded data removed]",
      "text/plain": [
       "<matplotlib.figure.Figure at 0x7f1685ed8d68>"
      ]
     },
     "metadata": {},
     "output_type": "display_data"
    }
   ],
   "source": [
    "plt.plot(x,h[1:-1,0])\n",
    "plt.show()"
   ]
  },
  {
   "cell_type": "code",
   "execution_count": 291,
   "metadata": {
    "collapsed": true
   },
   "outputs": [],
   "source": [
    "# evolution \n",
    "def evolve(n):\n",
    "    \n",
    "    # Jacobean\n",
    "    J = np.zeros((nx-2, 2, 2))\n",
    "    J[:,0,1] = 1.\n",
    "    J[:,1,0] = -(hu[1:-1,n]/h[1:-1,n])**2 + g * h[1:-1,n]\n",
    "    J[:,1,1] =  2 * hu[1:-1,n] / h[1:-1,n]\n",
    "    \n",
    "    J2 = np.array([np.dot(J[i,:,:], J[i,:,:]) for i in range(nx-2)])\n",
    "    \n",
    "    h[1:-1,n+1] = h[1:-1,n] - 0.5 * dt/dx * (J[:,0,0] * (h[2:,n] - h[:-2,n]) + J[:,0,1] * (hu[2:,n] - hu[:-2,n])) +\\\n",
    "                  0.5 * (dt/dx)**2 * (J2[:,0,0] * (h[:-2,n] - 2 * h[1:-1,n] + h[2:,n]) + \\\n",
    "                                      J2[:,0,1] * (hu[:-2,n] - 2 * hu[1:-1,n] + hu[2:,n]))\n",
    "    hu[1:-1,n+1] = hu[1:-1,n] - 0.5 * dt/dx * (J[:,1,0] * (h[2:,n] - h[:-2,n]) + J[:,1,1] * (hu[2:,n] - hu[:-2,n]))+ \\\n",
    "                  0.5 * (dt/dx)**2 * (J2[:,1,0] * (h[:-2,n] - 2 * h[1:-1,n] + h[2:,n]) + \\\n",
    "                                      J2[:,1,1] * (hu[:-2,n] - 2 * hu[1:-1,n] + hu[2:,n]))\n",
    "    \n",
    "    \n",
    "    #def h_flux(_h, _hu):\n",
    "     #   return _hu\n",
    "    \n",
    "    #def hu_flux(_h, _hu):\n",
    "     #   return _hu**2 / _h + 0.5 * g * _h**2\n",
    "    \n",
    "    #h_r = 0.5 * (h_flux(h[2:,n], hu[2:,n]) + h_flux(h[1:-1,n], hu[1:-1,n]) - (dx/dt) * (h[2:,n] - h[1:-1,n]))\n",
    "    #hu_r = 0.5 * (hu_flux(h[2:,n], hu[2:,n]) + hu_flux(h[1:-1,n], hu[1:-1,n]) - (dx/dt) * (hu[2:,n] - hu[1:-1,n]))\n",
    "    \n",
    "    #h_l = 0.5 * (h_flux(h[1:-1,n], hu[1:-1,n]) + h_flux(h[:-2,n], hu[:-2,n]) - (dx/dt) * (h[1:-1,n] - h[:-2,n]))\n",
    "    #hu_l = 0.5 * (hu_flux(h[1:-1,n], hu[1:-1,n]) + hu_flux(h[:-2,n], hu[:-2,n]) - (dx/dt) * (hu[1:-1,n] - hu[:-2,n]))\n",
    "    \n",
    "    #h[1:-1,n+1] = h[1:-1,n] - dt / dx * (h_r - h_l)\n",
    "    #hu[1:-1,n+1] = hu[1:-1,n] - dt / dx * (hu_r - hu_l)\n",
    "    \n",
    "    # do boundaries - periodic\n",
    "    h[0,n+1] = h[-2,n+1]\n",
    "    h[-1,n+1] = h[1,n+1]\n",
    "    hu[0,n+1] = hu[-2,n+1]\n",
    "    hu[-1,n+1] = hu[1,n+1]"
   ]
  },
  {
   "cell_type": "code",
   "execution_count": 294,
   "metadata": {
    "collapsed": false
   },
   "outputs": [],
   "source": [
    "for i in range(nt):\n",
    "    evolve(i)"
   ]
  },
  {
   "cell_type": "code",
   "execution_count": 296,
   "metadata": {
    "collapsed": false
   },
   "outputs": [
    {
     "data": {
      "image/png": "[encoded data removed]",
      "text/plain": [
       "<matplotlib.figure.Figure at 0x7f1685e03978>"
      ]
     },
     "metadata": {},
     "output_type": "display_data"
    }
   ],
   "source": [
    "plt.plot(x,h[1:-1,200])\n",
    "plt.show()"
   ]
  },
  {
   "cell_type": "code",
   "execution_count": 260,
   "metadata": {
    "collapsed": false
   },
   "outputs": [
    {
     "name": "stdout",
     "output_type": "stream",
     "text": [
      "100.401606426\n"
     ]
    }
   ],
   "source": [
    "print(nt * dt)"
   ]
  },
  {
   "cell_type": "code",
   "execution_count": 261,
   "metadata": {
    "collapsed": false
   },
   "outputs": [
    {
     "data": {
      "text/plain": [
       "199.19999999999999"
      ]
     },
     "execution_count": 261,
     "metadata": {},
     "output_type": "execute_result"
    }
   ],
   "source": [
    "2 / dt"
   ]
  },
  {
   "cell_type": "code",
   "execution_count": null,
   "metadata": {
    "collapsed": true
   },
   "outputs": [],
   "source": []
  }
 ],
 "metadata": {
  "kernelspec": {
   "display_name": "Python 3",
   "language": "python",
   "name": "python3"
  },
  "language_info": {
   "codemirror_mode": {
    "name": "ipython",
    "version": 3
   },
   "file_extension": ".py",
   "mimetype": "text/x-python",
   "name": "python",
   "nbconvert_exporter": "python",
   "pygments_lexer": "ipython3",
   "version": "3.4.4"
  }
 },
 "nbformat": 4,
 "nbformat_minor": 0
}
